{
 "cells": [
  {
   "cell_type": "code",
   "execution_count": 166,
   "id": "7197a8e6-3de9-471b-a913-1ef814e12cf6",
   "metadata": {},
   "outputs": [],
   "source": [
    "import matplotlib.pyplot as plt\n",
    "import math\n",
    "plt.style.use(\"seaborn-poster\")\n",
    "get_ipython().run_line_magic('matplotlib', 'inline')"
   ]
  },
  {
   "cell_type": "code",
   "execution_count": null,
   "id": "eb358a8a-625e-4f67-99a3-bedf3d4adc96",
   "metadata": {},
   "outputs": [],
   "source": []
  },
  {
   "cell_type": "code",
   "execution_count": 167,
   "id": "0f40e782-8813-4ca2-b15c-6f9578e52b09",
   "metadata": {},
   "outputs": [],
   "source": [
    "## all unit in millimeter\n",
    "speedOfSound = 345000 # mm/sec\n",
    "## The speed of sound in dry air at 22 °C is 344.632 m/s"
   ]
  },
  {
   "cell_type": "code",
   "execution_count": 168,
   "id": "1c4ed073-27a4-43b8-a01b-1a6d5d78e338",
   "metadata": {},
   "outputs": [
    {
     "name": "stdout",
     "output_type": "stream",
     "text": [
      "261.6255653005986\n"
     ]
    }
   ],
   "source": [
    "### all the varibles here should be able to modified\n",
    "\n",
    "t = 1.25 # wall thickness of the tube\n",
    "\n",
    "a = 9.5 # inside radius of tube\n",
    "b = 5 # radius of blow hole\n",
    "\n",
    "d = 17 # distance from center of blow hole to stopper\n",
    "e = 0.3 # fraction of blow hole covered by the player's lip normally from 0.25 to 0.33\n",
    "\n",
    "standardFreq = 440 # A4 on piano, default=440hz\n",
    "selectedKey = 0 # the fundamental note on the flute -12~+12, default=0 (middle C)\n",
    "fundamental = standardFreq*2**((selectedKey-9)/12) # fundamental freq\n",
    "\n",
    "###\n",
    "print(fundamental)"
   ]
  },
  {
   "cell_type": "code",
   "execution_count": 169,
   "id": "63f4c202-f6fe-4b6f-8030-ca6370f817d9",
   "metadata": {},
   "outputs": [
    {
     "name": "stdout",
     "output_type": "stream",
     "text": [
      "689.6774846875717\n"
     ]
    }
   ],
   "source": [
    "\n",
    "def Heff(): \n",
    "    return t+1.7*b\n",
    "\n",
    "def Lb(): # should be fixed for all holes, virtual length for blowhole\n",
    "    return Heff()*(1 - e)*(a/b)**2\n",
    "\n",
    "def Lo(): # ideal length\n",
    "    \"\"\"\n",
    "    v = λf\n",
    "    λ = v/f\n",
    "    the length of the tube from the center of the blow hole to the open end is half λ\n",
    "    \"\"\"\n",
    "    return 0.5*speedOfSound/fundamental\n",
    "\n",
    "def Le(f): # effective length\n",
    "    \"\"\"\n",
    "    print(f'Lb()={Lb()}')\n",
    "    print(f'Lo(f)={Lo(f)}')\n",
    "    print(f'0.6*a={0.6*a}')\n",
    "    \"\"\"\n",
    "    # 0.6*a is the extra length for the end of the tube\n",
    "          \n",
    "    return Lb()+Lo()+0.6*a\n",
    "\n",
    "\n",
    "print(Le(fundamental))\n"
   ]
  },
  {
   "cell_type": "code",
   "execution_count": 183,
   "id": "5f34801a-095a-43f2-911f-bcfe741df633",
   "metadata": {},
   "outputs": [
    {
     "name": "stdout",
     "output_type": "stream",
     "text": [
      "0\n",
      "2\n",
      "4\n",
      "5\n",
      "7\n",
      "9\n",
      "11\n",
      "['C', 0, 261.6255653005986, 689.6774846875717, 659.3392346875717]\n",
      "['D', 3, 293.6647679174076, 614.4327870384111, 584.0945370384111]\n",
      "['E', 3, 329.6275569128699, 547.3973823559165, 517.0591323559165]\n",
      "['F', 4, 349.2282314330039, 516.6743280349489, 486.3360780349489]\n",
      "['G', 3, 391.99543598174927, 460.3044965423571, 429.96624654235717]\n",
      "['A', 3, 439.99999999999994, 410.0846859238202, 379.74643592382023]\n",
      "['B', 4, 493.8833012561241, 365.3439210185151, 335.00567101851516]\n"
     ]
    }
   ],
   "source": [
    "### create list of all notes\n",
    "### 12TET is used\n",
    "needNote = 7\n",
    "\n",
    "noteName = ['C','C#/Db','D','D#/Eb','E','F','F#/Gb','G','G#/Ab','A','A#/Bb','B']\n",
    "interval = [2,2,1,2,2,2,1] # Major\n",
    "\n",
    "k = selectedKey\n",
    "print(k)\n",
    "\n",
    "length = [[noteName[k%12],0,fundamental,Le(fundamental),Lo()]]\n",
    "### no key hole for the fundamental\n",
    "\n",
    "blist = [0,3,3,4,3,3,4,3]\n",
    "\n",
    "for i in range(1,needNote):\n",
    "    \n",
    "    k += interval[(i-1)%7]\n",
    "    #print(k)\n",
    "    length.append([noteName[k%12],\n",
    "                    blist[i],\n",
    "                    fundamental*2**((k-selectedKey)/12), # freq \n",
    "                    Le(fundamental)*2**(-(k-selectedKey)/12), # desired effetive length <<< Lei >>>\n",
    "                    Le(fundamental)*2**(-(k-selectedKey)/12)-Lb()-0.6*a # <<<approx. hole positions>>>\n",
    "                    \n",
    "                    ])\n",
    "    \n",
    "for i in length:\n",
    "    print(i)\n",
    "    \n"
   ]
  },
  {
   "cell_type": "code",
   "execution_count": 184,
   "id": "20416dfa-91ac-4ba6-9b31-850709edc278",
   "metadata": {},
   "outputs": [],
   "source": [
    "\n",
    "\n",
    "for n in range(1,needNote):\n",
    "    for j in range(10):\n",
    "        for i in range(n,needNote):\n",
    "            _b = length[i][1]\n",
    "            if i == n:\n",
    "\n",
    "                D = length[i-1][4]-length[i][4]\n",
    "                Lc= (t+1.5*_b)/( (_b/a)**2 + (t+1.5*_b)/D )\n",
    "                # print(f'first{Lc}')\n",
    "\n",
    "            else:\n",
    "                s = 0.5 * (length[i-1][4]-length[i][4])\n",
    "                Lc =  s*( (1 + 2*(1.5*_b + t)*(a/_b)**2 /s )**0.5 - 1 )\n",
    "                # print(f'S={s}')\n",
    "                # print(f'second{i},{j},{n},{Lc}')\n",
    "\n",
    "            length[i][4] = length[i][3]-Lc-Lb()\n",
    "\n",
    "  "
   ]
  },
  {
   "cell_type": "code",
   "execution_count": 185,
   "id": "7cf980ad-8415-40a8-afcf-77aa5205eee0",
   "metadata": {},
   "outputs": [
    {
     "name": "stdout",
     "output_type": "stream",
     "text": [
      "['C', 0, 261.6255653005986, 689.6774846875717, 659.3392346875717]\n",
      "['D', 3, 293.6647679174076, 614.4327870384111, 552.3239333572762]\n",
      "['E', 3, 329.6275569128699, 547.3973823559165, 493.6870223171628]\n",
      "['F', 4, 349.2282314330039, 516.6743280349489, 484.46634998983916]\n",
      "['G', 3, 391.99543598174927, 460.3044965423571, 401.67826057638666]\n",
      "['A', 3, 439.99999999999994, 410.0846859238202, 361.9110169818]\n",
      "['B', 4, 493.8833012561241, 365.3439210185151, 320.0097881439411]\n"
     ]
    },
    {
     "data": {
      "text/plain": [
       "[659.3392346875717,\n",
       " 552.3239333572762,\n",
       " 493.6870223171628,\n",
       " 484.46634998983916,\n",
       " 401.67826057638666,\n",
       " 361.9110169818,\n",
       " 320.0097881439411]"
      ]
     },
     "execution_count": 185,
     "metadata": {},
     "output_type": "execute_result"
    }
   ],
   "source": [
    "for i in length:\n",
    "    print(i)\n",
    "    \n",
    "\n",
    "\n",
    "holePos = list()\n",
    "for i in range(needNote):\n",
    "    holePos.append(length[i][4])\n",
    "holePos\n"
   ]
  },
  {
   "cell_type": "code",
   "execution_count": 186,
   "id": "12f8515f-aa26-473a-a80c-520f084654ae",
   "metadata": {},
   "outputs": [
    {
     "data": {
      "image/png": "[encoded data removed]",
      "text/plain": [
       "<Figure size 432x288 with 1 Axes>"
      ]
     },
     "metadata": {
      "needs_background": "light"
     },
     "output_type": "display_data"
    },
    {
     "data": {
      "text/plain": [
       "<Figure size 864x576 with 0 Axes>"
      ]
     },
     "metadata": {},
     "output_type": "display_data"
    }
   ],
   "source": [
    "plt.plot(range(1,needNote+1),holePos)\n",
    "plt.figure(figsize = (12, 8))\n",
    "plt.show()"
   ]
  },
  {
   "cell_type": "code",
   "execution_count": null,
   "id": "c3e81f90-971b-4eb1-a1c3-6daca625d3f2",
   "metadata": {},
   "outputs": [],
   "source": []
  },
  {
   "cell_type": "code",
   "execution_count": null,
   "id": "2c34cd3a-ce6b-4c9d-8cf6-7905b83713cc",
   "metadata": {},
   "outputs": [],
   "source": []
  }
 ],
 "metadata": {
  "kernelspec": {
   "display_name": "Python 3 (ipykernel)",
   "language": "python",
   "name": "python3"
  },
  "language_info": {
   "codemirror_mode": {
    "name": "ipython",
    "version": 3
   },
   "file_extension": ".py",
   "mimetype": "text/x-python",
   "name": "python",
   "nbconvert_exporter": "python",
   "pygments_lexer": "ipython3",
   "version": "3.9.7"
  }
 },
 "nbformat": 4,
 "nbformat_minor": 5
}
